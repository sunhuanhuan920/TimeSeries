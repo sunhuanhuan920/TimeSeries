{
  "nbformat": 4,
  "nbformat_minor": 0,
  "metadata": {
    "colab": {
      "provenance": [],
      "authorship_tag": "ABX9TyPPtTgoEKsikWPUg1aES3+m",
      "include_colab_link": true
    },
    "kernelspec": {
      "name": "python3",
      "display_name": "Python 3"
    },
    "language_info": {
      "name": "python"
    }
  },
  "cells": [
    {
      "cell_type": "markdown",
      "metadata": {
        "id": "view-in-github",
        "colab_type": "text"
      },
      "source": [
        "<a href=\"https://colab.research.google.com/github/sunhuanhuan920/TimeSeries/blob/main/TS.ipynb\" target=\"_parent\"><img src=\"https://colab.research.google.com/assets/colab-badge.svg\" alt=\"Open In Colab\"/></a>"
      ]
    },
    {
      "cell_type": "markdown",
      "source": [
        "# Dynamic Time Warping (DTW)"
      ],
      "metadata": {
        "id": "5BUx0EuYzkH_"
      }
    },
    {
      "cell_type": "code",
      "source": [
        "import numpy as np"
      ],
      "metadata": {
        "id": "hadnnZPKWUzM"
      },
      "execution_count": 1,
      "outputs": []
    },
    {
      "cell_type": "code",
      "source": [
        "def dtw(x, x_prime):\n",
        "\n",
        "    R = np.zeros((len(x), len(x_prime)))\n",
        "\n",
        "    for i in range(len(x)):\n",
        "        for j in range(len(x_prime)):\n",
        "            R[i, j] = np.sqrt((x[i] - x_prime[j])**2)\n",
        "            if i > 0 or j > 0:\n",
        "                R[i, j] += min(R[i-1, j] if i > 0 else np.inf,\n",
        "                               R[i, j-1] if j > 0 else np.inf,\n",
        "                               R[i-1, j-1] if i > 0 and j > 0 else np.inf)\n",
        "\n",
        "    return R"
      ],
      "metadata": {
        "id": "hg2oEUxsUkpl"
      },
      "execution_count": 4,
      "outputs": []
    },
    {
      "cell_type": "code",
      "source": [
        "# Time series x and x'\n",
        "x = [7, 1, 2, 5, 9]\n",
        "x_prime = [1, 8, 0, 4, 4, 2, 0]\n",
        "\n",
        "print(np.flipud(dtw(x, x_prime)))"
      ],
      "metadata": {
        "colab": {
          "base_uri": "https://localhost:8080/"
        },
        "id": "fK_v3n0NUSQw",
        "outputId": "30806aef-0694-40ec-bb0b-60f1e685caa1"
      },
      "execution_count": 7,
      "outputs": [
        {
          "output_type": "stream",
          "name": "stdout",
          "text": [
            "[[19. 11. 19. 16. 16. 18. 23.]\n",
            " [11. 10. 15. 11. 11. 14. 17.]\n",
            " [ 7. 12. 10. 10. 12. 12. 14.]\n",
            " [ 6. 13.  8. 11. 14. 15. 16.]\n",
            " [ 6.  7. 14. 17. 20. 25. 32.]]\n"
          ]
        }
      ]
    }
  ]
}